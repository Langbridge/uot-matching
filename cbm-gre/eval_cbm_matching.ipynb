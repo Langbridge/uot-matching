{
 "cells": [
  {
   "cell_type": "code",
   "execution_count": 187,
   "id": "d2d99395",
   "metadata": {},
   "outputs": [],
   "source": [
    "import pandas as pd\n",
    "import matplotlib.pyplot as plt\n",
    "\n",
    "from ast import literal_eval"
   ]
  },
  {
   "cell_type": "code",
   "execution_count": 188,
   "id": "7333b944",
   "metadata": {},
   "outputs": [],
   "source": [
    "cols_of_interest = ['wonum', 'component', 'failure_mechanism', 'failure_influence']"
   ]
  },
  {
   "cell_type": "code",
   "execution_count": null,
   "id": "e57fbc57",
   "metadata": {},
   "outputs": [],
   "source": [
    "uot = pd.read_csv('enriched_work_orders_uot.csv') # (0.99, 0.75)\n",
    "cossim = pd.read_csv('enriched_work_orders_cossim.csv')\n",
    "gt = pd.read_csv('enriched_work_orders_with_manual_validation.csv')"
   ]
  },
  {
   "cell_type": "code",
   "execution_count": 190,
   "id": "d03e3843",
   "metadata": {},
   "outputs": [
    {
     "data": {
      "text/html": [
       "<div>\n",
       "<style scoped>\n",
       "    .dataframe tbody tr th:only-of-type {\n",
       "        vertical-align: middle;\n",
       "    }\n",
       "\n",
       "    .dataframe tbody tr th {\n",
       "        vertical-align: top;\n",
       "    }\n",
       "\n",
       "    .dataframe thead th {\n",
       "        text-align: right;\n",
       "    }\n",
       "</style>\n",
       "<table border=\"1\" class=\"dataframe\">\n",
       "  <thead>\n",
       "    <tr style=\"text-align: right;\">\n",
       "      <th></th>\n",
       "      <th>wonum</th>\n",
       "      <th>component</th>\n",
       "      <th>failure_mechanism</th>\n",
       "      <th>failure_influence</th>\n",
       "      <th>match_score</th>\n",
       "    </tr>\n",
       "  </thead>\n",
       "  <tbody>\n",
       "    <tr>\n",
       "      <th>0</th>\n",
       "      <td>96827</td>\n",
       "      <td>Filter, Control Air Supply</td>\n",
       "      <td>['Broken', 'Clogged']</td>\n",
       "      <td>['Personnel error', 'Dirt, air supply contamin...</td>\n",
       "      <td>0.319025</td>\n",
       "    </tr>\n",
       "    <tr>\n",
       "      <th>1</th>\n",
       "      <td>96824</td>\n",
       "      <td>Filter, Control Air Supply</td>\n",
       "      <td>['Broken', 'Clogged']</td>\n",
       "      <td>['Personnel error', 'Dirt, air supply contamin...</td>\n",
       "      <td>0.319549</td>\n",
       "    </tr>\n",
       "    <tr>\n",
       "      <th>2</th>\n",
       "      <td>112409</td>\n",
       "      <td>Filter, Control Air Supply</td>\n",
       "      <td>['Broken', 'Clogged']</td>\n",
       "      <td>['Personnel error', 'Dirt, air supply contamin...</td>\n",
       "      <td>0.333231</td>\n",
       "    </tr>\n",
       "    <tr>\n",
       "      <th>3</th>\n",
       "      <td>112410</td>\n",
       "      <td>Filter, Control Air Supply</td>\n",
       "      <td>['Broken', 'Clogged']</td>\n",
       "      <td>['Personnel error', 'Dirt, air supply contamin...</td>\n",
       "      <td>0.333231</td>\n",
       "    </tr>\n",
       "    <tr>\n",
       "      <th>4</th>\n",
       "      <td>70068</td>\n",
       "      <td>Filter, Control Air Supply</td>\n",
       "      <td>['Broken', 'Clogged']</td>\n",
       "      <td>['Personnel error', 'Dirt, air supply contamin...</td>\n",
       "      <td>0.333319</td>\n",
       "    </tr>\n",
       "    <tr>\n",
       "      <th>...</th>\n",
       "      <td>...</td>\n",
       "      <td>...</td>\n",
       "      <td>...</td>\n",
       "      <td>...</td>\n",
       "      <td>...</td>\n",
       "    </tr>\n",
       "    <tr>\n",
       "      <th>128</th>\n",
       "      <td>7145</td>\n",
       "      <td>Chiller Instrumentation and Control Devices: C...</td>\n",
       "      <td>['Drift', 'General tubing failure', 'Elastomer...</td>\n",
       "      <td>['Aging (refrigerant attack)', 'Heat', 'Aging,...</td>\n",
       "      <td>0.083327</td>\n",
       "    </tr>\n",
       "    <tr>\n",
       "      <th>129</th>\n",
       "      <td>72681</td>\n",
       "      <td>Compressor, Lubrication Failure</td>\n",
       "      <td>['Low oil level', 'High or low oil pressure', ...</td>\n",
       "      <td>['Aging of pump, duty cycle', 'Clogged / crush...</td>\n",
       "      <td>0.142857</td>\n",
       "    </tr>\n",
       "    <tr>\n",
       "      <th>130</th>\n",
       "      <td>78226</td>\n",
       "      <td>Compressor System Failure</td>\n",
       "      <td>['Inadequate system differential pressure']</td>\n",
       "      <td>['Low load']</td>\n",
       "      <td>0.655560</td>\n",
       "    </tr>\n",
       "    <tr>\n",
       "      <th>131</th>\n",
       "      <td>92649</td>\n",
       "      <td>Compressor, Lubrication Failure</td>\n",
       "      <td>['Low oil level', 'High or low oil pressure', ...</td>\n",
       "      <td>['Aging of pump, duty cycle', 'Clogged / crush...</td>\n",
       "      <td>0.142856</td>\n",
       "    </tr>\n",
       "    <tr>\n",
       "      <th>132</th>\n",
       "      <td>97792</td>\n",
       "      <td>Chiller Instrumentation and Control Devices: C...</td>\n",
       "      <td>['Drift', 'General tubing failure', 'Elastomer...</td>\n",
       "      <td>['Aging (refrigerant attack)', 'Heat', 'Aging,...</td>\n",
       "      <td>0.063146</td>\n",
       "    </tr>\n",
       "  </tbody>\n",
       "</table>\n",
       "<p>133 rows × 5 columns</p>\n",
       "</div>"
      ],
      "text/plain": [
       "      wonum                                          component  \\\n",
       "0     96827                         Filter, Control Air Supply   \n",
       "1     96824                         Filter, Control Air Supply   \n",
       "2    112409                         Filter, Control Air Supply   \n",
       "3    112410                         Filter, Control Air Supply   \n",
       "4     70068                         Filter, Control Air Supply   \n",
       "..      ...                                                ...   \n",
       "128    7145  Chiller Instrumentation and Control Devices: C...   \n",
       "129   72681                    Compressor, Lubrication Failure   \n",
       "130   78226                          Compressor System Failure   \n",
       "131   92649                    Compressor, Lubrication Failure   \n",
       "132   97792  Chiller Instrumentation and Control Devices: C...   \n",
       "\n",
       "                                     failure_mechanism  \\\n",
       "0                                ['Broken', 'Clogged']   \n",
       "1                                ['Broken', 'Clogged']   \n",
       "2                                ['Broken', 'Clogged']   \n",
       "3                                ['Broken', 'Clogged']   \n",
       "4                                ['Broken', 'Clogged']   \n",
       "..                                                 ...   \n",
       "128  ['Drift', 'General tubing failure', 'Elastomer...   \n",
       "129  ['Low oil level', 'High or low oil pressure', ...   \n",
       "130        ['Inadequate system differential pressure']   \n",
       "131  ['Low oil level', 'High or low oil pressure', ...   \n",
       "132  ['Drift', 'General tubing failure', 'Elastomer...   \n",
       "\n",
       "                                     failure_influence  match_score  \n",
       "0    ['Personnel error', 'Dirt, air supply contamin...     0.319025  \n",
       "1    ['Personnel error', 'Dirt, air supply contamin...     0.319549  \n",
       "2    ['Personnel error', 'Dirt, air supply contamin...     0.333231  \n",
       "3    ['Personnel error', 'Dirt, air supply contamin...     0.333231  \n",
       "4    ['Personnel error', 'Dirt, air supply contamin...     0.333319  \n",
       "..                                                 ...          ...  \n",
       "128  ['Aging (refrigerant attack)', 'Heat', 'Aging,...     0.083327  \n",
       "129  ['Aging of pump, duty cycle', 'Clogged / crush...     0.142857  \n",
       "130                                       ['Low load']     0.655560  \n",
       "131  ['Aging of pump, duty cycle', 'Clogged / crush...     0.142856  \n",
       "132  ['Aging (refrigerant attack)', 'Heat', 'Aging,...     0.063146  \n",
       "\n",
       "[133 rows x 5 columns]"
      ]
     },
     "execution_count": 190,
     "metadata": {},
     "output_type": "execute_result"
    }
   ],
   "source": [
    "uot = uot[cols_of_interest+['match_score']]\n",
    "cossim = cossim[cols_of_interest+['match_score']]\n",
    "gt = gt[['wonum'] + [x+'_expert_selected' for x in cols_of_interest[1:]]]\n",
    "\n",
    "uot"
   ]
  },
  {
   "cell_type": "code",
   "execution_count": 191,
   "id": "d8a0289e",
   "metadata": {},
   "outputs": [],
   "source": [
    "gt = gt.fillna('[]')\n",
    "\n",
    "for col in ['failure_mechanism']:\n",
    "    uot[col] = uot[col].apply(lambda x: sorted(literal_eval(x)))\n",
    "    cossim[col] = cossim[col].apply(lambda x: sorted(literal_eval(x)))\n",
    "    gt[col+'_expert_selected'] = gt[col+'_expert_selected'].apply(lambda x: sorted(literal_eval(x)))"
   ]
  },
  {
   "cell_type": "code",
   "execution_count": 192,
   "id": "383cad90",
   "metadata": {},
   "outputs": [],
   "source": [
    "def eval_exact_matches(test, gt, cols=['component'], threshold=0.0):\n",
    "    scores = {col: 0.0 for col in cols}\n",
    "    for col in cols:\n",
    "        scores[col] = ((test[col] == gt[col+'_expert_selected']) & (test['match_score'] >= threshold)).mean()\n",
    "    return scores\n",
    "\n",
    "import numpy as np\n",
    "def tune_threshold(test, gt, step=0.1):\n",
    "    results = {}\n",
    "    for t in np.arange(0,1.0,step):\n",
    "        results[t] = eval_exact_matches(test, gt, threshold=t)['component']\n",
    "    return results"
   ]
  },
  {
   "cell_type": "code",
   "execution_count": 193,
   "id": "68617a54",
   "metadata": {},
   "outputs": [
    {
     "data": {
      "text/plain": [
       "<matplotlib.legend.Legend at 0x1425b6210>"
      ]
     },
     "execution_count": 193,
     "metadata": {},
     "output_type": "execute_result"
    },
    {
     "data": {
      "image/png": "[encoded data removed]",
      "text/plain": [
       "<Figure size 640x480 with 1 Axes>"
      ]
     },
     "metadata": {},
     "output_type": "display_data"
    }
   ],
   "source": [
    "uot_results = tune_threshold(uot, gt, step=0.05)\n",
    "cossim_results = tune_threshold(cossim, gt, step=0.05)\n",
    "\n",
    "plt.plot(uot_results.keys(), uot_results.values(), label='uot')\n",
    "plt.plot(cossim_results.keys(), cossim_results.values(), label='cossim')\n",
    "plt.legend()"
   ]
  },
  {
   "cell_type": "code",
   "execution_count": 195,
   "id": "782369e8",
   "metadata": {},
   "outputs": [
    {
     "data": {
      "text/plain": [
       "Text(0, 0.5, 'Accuracy')"
      ]
     },
     "execution_count": 195,
     "metadata": {},
     "output_type": "execute_result"
    },
    {
     "data": {
      "image/png": "[encoded data removed]",
      "text/plain": [
       "<Figure size 640x480 with 1 Axes>"
      ]
     },
     "metadata": {},
     "output_type": "display_data"
    }
   ],
   "source": [
    "selection_map = gt['failure_mechanism_expert_selected'].apply(len) > 0.0\n",
    "\n",
    "uot_filt_results = tune_threshold(uot[selection_map], gt[selection_map], step=0.05)\n",
    "cossim_filt_results = tune_threshold(cossim[selection_map], gt[selection_map], step=0.05)\n",
    "\n",
    "plt.plot(uot_filt_results.keys(), uot_filt_results.values(), label='uot')\n",
    "plt.plot(cossim_filt_results.keys(), cossim_filt_results.values(), label='cossim')\n",
    "plt.legend()\n",
    "plt.xlabel('Threshold')\n",
    "plt.ylabel('Accuracy')"
   ]
  }
 ],
 "metadata": {
  "kernelspec": {
   "display_name": "uot-matching",
   "language": "python",
   "name": "python3"
  },
  "language_info": {
   "codemirror_mode": {
    "name": "ipython",
    "version": 3
   },
   "file_extension": ".py",
   "mimetype": "text/x-python",
   "name": "python",
   "nbconvert_exporter": "python",
   "pygments_lexer": "ipython3",
   "version": "3.13.4"
  }
 },
 "nbformat": 4,
 "nbformat_minor": 5
}
