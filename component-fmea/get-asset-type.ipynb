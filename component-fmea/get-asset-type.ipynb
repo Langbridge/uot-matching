{
 "cells": [
  {
   "cell_type": "code",
   "execution_count": 3,
   "id": "32d71195",
   "metadata": {},
   "outputs": [
    {
     "data": {
      "text/plain": [
       "[{'assetmeter_collectionref': 'https://main-bundle1.manage.resomaximo-test.suite.maximo.com/maximo/api/os/mxasset/_MjE1MTUwQ0cvUE9LTUFJTg--/int_assetmeter',\n",
       "  '_rowstamp': '179618822',\n",
       "  'assetmntskd_collectionref': 'https://main-bundle1.manage.resomaximo-test.suite.maximo.com/maximo/api/os/mxasset/_MjE1MTUwQ0cvUE9LTUFJTg--/assetmntskd',\n",
       "  'description': 'AIR HANDLING UNIT 2-3-3  (OA)',\n",
       "  'href': 'https://main-bundle1.manage.resomaximo-test.suite.maximo.com/maximo/api/os/mxasset/_MjE1MTUwQ0cvUE9LTUFJTg--',\n",
       "  'assetopskd_collectionref': 'https://main-bundle1.manage.resomaximo-test.suite.maximo.com/maximo/api/os/mxasset/_MjE1MTUwQ0cvUE9LTUFJTg--/assetopskd',\n",
       "  'assetspec_collectionref': 'https://main-bundle1.manage.resomaximo-test.suite.maximo.com/maximo/api/os/mxasset/_MjE1MTUwQ0cvUE9LTUFJTg--/assetspecclass',\n",
       "  'assetusercust_collectionref': 'https://main-bundle1.manage.resomaximo-test.suite.maximo.com/maximo/api/os/mxasset/_MjE1MTUwQ0cvUE9LTUFJTg--/assetusercust'}]"
      ]
     },
     "execution_count": 3,
     "metadata": {},
     "output_type": "execute_result"
    }
   ],
   "source": [
    "import requests, json\n",
    "\n",
    "api_key = \"63keqccbscfms82f3bcbjfilioht9p80rbeur9lk\"\n",
    "base_url = \"https://main.manage.resomaximo-test.suite.maximo.com/maximo/api/os/\"\n",
    "\n",
    "\n",
    "def runMaximoQuery(url):\n",
    "    \"\"\"\n",
    "    Helper function to invoke Maximo query.\n",
    "    \"\"\"\n",
    "\n",
    "    headers = {\n",
    "        \"apikey\": api_key,\n",
    "        \"Content-Type\": \"application/json\",\n",
    "        \"X-method-override\": \"BULK\",\n",
    "    }\n",
    "\n",
    "    response = requests.request(\"GET\", url, headers=headers)\n",
    "    objects = json.loads(response.text)[\"member\"]\n",
    "    return objects\n",
    "\n",
    "runMaximoQuery(base_url+\"mxasset?lean=1&oslc.select=description&oslc.where=assetnum=\\\"215150CG\\\"\")"
   ]
  }
 ],
 "metadata": {
  "kernelspec": {
   "display_name": "uot-matching",
   "language": "python",
   "name": "python3"
  },
  "language_info": {
   "codemirror_mode": {
    "name": "ipython",
    "version": 3
   },
   "file_extension": ".py",
   "mimetype": "text/x-python",
   "name": "python",
   "nbconvert_exporter": "python",
   "pygments_lexer": "ipython3",
   "version": "3.13.4"
  }
 },
 "nbformat": 4,
 "nbformat_minor": 5
}
